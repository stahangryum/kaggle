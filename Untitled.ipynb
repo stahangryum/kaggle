{
 "cells": [
  {
   "cell_type": "code",
   "execution_count": 1,
   "id": "a7701f4f-b056-4c40-a066-bd9f1914f349",
   "metadata": {},
   "outputs": [],
   "source": [
    "Name = \"Kim Jeewoo\""
   ]
  },
  {
   "cell_type": "code",
   "execution_count": 3,
   "id": "9f230362-82ec-4f3a-a64d-64afdb167014",
   "metadata": {},
   "outputs": [
    {
     "data": {
      "text/plain": [
       "'Kim'"
      ]
     },
     "execution_count": 3,
     "metadata": {},
     "output_type": "execute_result"
    }
   ],
   "source": [
    "Name[:3]"
   ]
  },
  {
   "cell_type": "code",
   "execution_count": 5,
   "id": "f8fa47c3-1aa4-4f84-a107-e817e5fa705f",
   "metadata": {},
   "outputs": [
    {
     "data": {
      "text/plain": [
       "'Jeewoo'"
      ]
     },
     "execution_count": 5,
     "metadata": {},
     "output_type": "execute_result"
    }
   ],
   "source": [
    "Name[-6:]"
   ]
  }
 ],
 "metadata": {
  "kernelspec": {
   "display_name": "Python 3 (ipykernel)",
   "language": "python",
   "name": "python3"
  },
  "language_info": {
   "codemirror_mode": {
    "name": "ipython",
    "version": 3
   },
   "file_extension": ".py",
   "mimetype": "text/x-python",
   "name": "python",
   "nbconvert_exporter": "python",
   "pygments_lexer": "ipython3",
   "version": "3.9.7"
  }
 },
 "nbformat": 4,
 "nbformat_minor": 5
}
